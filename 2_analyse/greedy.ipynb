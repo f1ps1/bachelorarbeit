{
 "cells": [
  {
   "cell_type": "code",
   "execution_count": null,
   "metadata": {},
   "outputs": [],
   "source": [
    "%pip install beautifulsoup4 pqdm pulp networkx"
   ]
  },
  {
   "cell_type": "code",
   "execution_count": 8,
   "metadata": {},
   "outputs": [],
   "source": [
    "import pulp\n",
    "import pandas as pd\n",
    "from datetime import datetime"
   ]
  },
  {
   "cell_type": "code",
   "execution_count": 4,
   "metadata": {},
   "outputs": [],
   "source": [
    "winf_cbk = [\n",
    "    \"5105\",  # Jahresabschluss und Unternehmensberichte\n",
    "    \"5107\",  # Global Business\n",
    "    \"5106\",  # Grundlagen der Wirtschaftsinformatik\n",
    "    \"5108\",  # Funktionsübergreifende Betriebswirtschaftslehre - Prozesse und Entscheidungen\n",
    "    \"5056\",  # Mikroökonomik (6056 ist Angewandte Mikroökonomik)\n",
    "    \"5059\",  # Makroökonomik (6059 ist Internationale Makroökonomik)\n",
    "    \"5117\",  # Zukunftsfähiges Wirtschaften: Vertiefung und Anwendung\n",
    "    \"5109\",  # Wirtschaftsprivatrecht (6021 ist Wirtschaft im rechtlichen Kontext - Wirtschaftsprivatrecht I)\n",
    "    \"6023\",  # Mathematik\n",
    "    \"6024\",  # Statistik\n",
    "    \"5136\",  # Standards wissenschaftlichen Arbeitens und Zitierens (6911 ist Grundlagen wissenschaftlichen Arbeitens)\n",
    "]\n",
    "\n",
    "# Vorraussetzungen um Kurse aus dem Hauptstudium zu belegen:\n",
    "# mind 20 ECTS aus dem CBK\n",
    "\n",
    "winf_hauptstudium = [\n",
    "    \"6012\",  # Beschaffung, Logistik, Produktion\n",
    "    \"5155\",  # Grundlagen und Methoden des Data und Knowledge Engineering\n",
    "    \"9485\",  # Algorithmisches Denken und Programmierung\n",
    "    \"5158\",  # Rechnernetzwerke und Datenübermittlung: Grundlagen und Sicherheit\n",
    "    \"5160\",  # Design von betrieblichen Informationssystemen\n",
    "    \"5161\",  # Governance und Management von IT-Projekten\n",
    "    \"5162\",  # Forschungsmethoden der Wirtschaftsinformatik\n",
    "]\n",
    "\n",
    "vvzModel = pd.read_pickle(\"../0_daten/vvzModel.pkl\")\n",
    "relevantVvz = vvzModel[vvzModel[\"planpunkte_ids\"].apply(lambda ids: any(str(id_) in (winf_cbk + winf_hauptstudium) for id_ in ids))]"
   ]
  },
  {
   "cell_type": "code",
   "execution_count": 7,
   "metadata": {},
   "outputs": [],
   "source": [
    "def select_best_course(picked_df, available_df, cbk_ids, hs_ids):\n",
    "    def is_on_valid_day(session):\n",
    "        for s in session:\n",
    "            # day = datetime.strptime(s['start'], \"%Y-%m-%d %H:%M:%S\").strftime('%A')\n",
    "            day = s['start'].strftime('%A')\n",
    "            # if day in ['Monday', 'Tuesday']:\n",
    "            if day in ['Monday']:\n",
    "                return False\n",
    "        return True\n",
    "\n",
    "    def overlaps_too_much(session1, session2, max_minutes=15):\n",
    "        for s1 in session1:\n",
    "            s1_start = s1['start']\n",
    "            s1_end = s1['end']\n",
    "            for s2 in session2:\n",
    "                s2_start = s2['start']\n",
    "                s2_end = s2['end']\n",
    "                latest_start = max(s1_start, s2_start)\n",
    "                earliest_end = min(s1_end, s2_end)\n",
    "                overlap = (earliest_end - latest_start).total_seconds() / 60\n",
    "                if overlap > max_minutes:\n",
    "                    return True\n",
    "        return False\n",
    "\n",
    "    def cbk_completed(picked_df):\n",
    "        # return True\n",
    "        if picked_df is None:\n",
    "            return False\n",
    "        cbk_courses = picked_df[picked_df['planpunkte_ids'].apply(lambda ids: any(i in cbk_ids for i in ids))]\n",
    "        if cbk_courses['ects'].sum() < 20:\n",
    "            return False\n",
    "        now = datetime.now()\n",
    "        return all(max(s['end'] for s in row['dates']) < now for _, row in cbk_courses.iterrows())\n",
    "\n",
    "    available_df = available_df.copy()\n",
    "    available_df['first_start'] = available_df['dates'].apply(lambda d: min(s['start'] for s in d))\n",
    "\n",
    "    valid_courses = []\n",
    "\n",
    "    for _, course in available_df.iterrows():\n",
    "        session = course['dates']\n",
    "        if not is_on_valid_day(session):\n",
    "            continue\n",
    "\n",
    "        is_hs = any(i in hs_ids for i in course['planpunkte_ids'])\n",
    "\n",
    "        if is_hs and not cbk_completed(picked_df):\n",
    "            continue\n",
    "\n",
    "        if picked_df is not None:\n",
    "            conflict = False\n",
    "            for _, picked in picked_df.iterrows():\n",
    "                if overlaps_too_much(session, picked['dates']):\n",
    "                    conflict = True\n",
    "                    break\n",
    "            if conflict:\n",
    "                continue\n",
    "\n",
    "        valid_courses.append(course)\n",
    "\n",
    "    if not valid_courses:\n",
    "        return None\n",
    "\n",
    "    if picked_df is not None and not picked_df.empty:\n",
    "        last_end = max(s['end'] for row in picked_df['dates'] for s in row)\n",
    "    else:\n",
    "        last_end = pd.Timestamp(\"1970-01-01\")\n",
    "\n",
    "    return sorted(valid_courses, key=lambda c: (-c['ects'], abs((c['first_start'] - last_end).total_seconds())))[0]"
   ]
  },
  {
   "cell_type": "code",
   "execution_count": 10,
   "metadata": {},
   "outputs": [
    {
     "data": {
      "text/plain": [
       "31.0"
      ]
     },
     "execution_count": 10,
     "metadata": {},
     "output_type": "execute_result"
    }
   ],
   "source": [
    "def get_greedy_pick():\n",
    "    def get_visited_planpunkte():\n",
    "        def flatten(xss):\n",
    "            return [x for xs in xss for x in xs]\n",
    "        return list(set(flatten([ids for ids in picked_df[\"planpunkte_ids\"]])))\n",
    "\n",
    "    picked_df = pd.DataFrame()\n",
    "    picked_course = select_best_course(None, relevantVvz, winf_cbk, winf_hauptstudium)\n",
    "\n",
    "    while picked_course is not None:\n",
    "        picked_df = pd.concat([picked_df, pd.DataFrame(picked_course).T])\n",
    "        visited_planpunkkte = get_visited_planpunkte()\n",
    "        picked_course = select_best_course(picked_df, relevantVvz[relevantVvz[\"planpunkte_ids\"].apply(lambda ids: not any(str(id_) in (visited_planpunkkte) for id_ in ids))], winf_cbk, winf_hauptstudium)\n",
    "    \n",
    "    return picked_df\n",
    "\n",
    "\n",
    "get_greedy_pick()[\"ects\"].sum()"
   ]
  },
  {
   "cell_type": "code",
   "execution_count": null,
   "metadata": {},
   "outputs": [],
   "source": []
  }
 ],
 "metadata": {
  "kernelspec": {
   "display_name": "Python 3",
   "language": "python",
   "name": "python3"
  },
  "language_info": {
   "codemirror_mode": {
    "name": "ipython",
    "version": 3
   },
   "file_extension": ".py",
   "mimetype": "text/x-python",
   "name": "python",
   "nbconvert_exporter": "python",
   "pygments_lexer": "ipython3",
   "version": "3.11.9"
  }
 },
 "nbformat": 4,
 "nbformat_minor": 2
}
