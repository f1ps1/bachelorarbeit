{
 "cells": [
  {
   "cell_type": "markdown",
   "metadata": {},
   "source": [
    "## Gesamtes Vorlesungsverzeichnis laden\n",
    "\n",
    "Extrahiert Datum, Planpunkt, Lv-ID, Professoren aus dem VVZ der WU.  \n",
    "Kombiniert Planpunkte mit ECTS.\n",
    "Output:  \n",
    "- vvzKurse.pkl - pandas dataframe mit Rohdaten des VVZ\n",
    "- vvzModel.pkl - pandas dataframe mit Daten erweitert um Planpunkt und ECTS. LP und Greedy greifen auf diesen Dataframe zurück"
   ]
  },
  {
   "cell_type": "code",
   "execution_count": 201,
   "metadata": {},
   "outputs": [
    {
     "name": "stdout",
     "output_type": "stream",
     "text": [
      "Requirement already satisfied: beautifulsoup4 in c:\\users\\philipp\\appdata\\local\\packages\\pythonsoftwarefoundation.python.3.11_qbz5n2kfra8p0\\localcache\\local-packages\\python311\\site-packages (4.13.4)\n",
      "Requirement already satisfied: pqdm in c:\\users\\philipp\\appdata\\local\\packages\\pythonsoftwarefoundation.python.3.11_qbz5n2kfra8p0\\localcache\\local-packages\\python311\\site-packages (0.2.0)\n",
      "Requirement already satisfied: pulp in c:\\users\\philipp\\appdata\\local\\packages\\pythonsoftwarefoundation.python.3.11_qbz5n2kfra8p0\\localcache\\local-packages\\python311\\site-packages (3.1.1)\n",
      "Collecting networkx\n",
      "  Downloading networkx-3.4.2-py3-none-any.whl.metadata (6.3 kB)\n",
      "Requirement already satisfied: soupsieve>1.2 in c:\\users\\philipp\\appdata\\local\\packages\\pythonsoftwarefoundation.python.3.11_qbz5n2kfra8p0\\localcache\\local-packages\\python311\\site-packages (from beautifulsoup4) (2.7)\n",
      "Requirement already satisfied: typing-extensions>=4.0.0 in c:\\users\\philipp\\appdata\\local\\packages\\pythonsoftwarefoundation.python.3.11_qbz5n2kfra8p0\\localcache\\local-packages\\python311\\site-packages (from beautifulsoup4) (4.12.2)\n",
      "Requirement already satisfied: bounded-pool-executor in c:\\users\\philipp\\appdata\\local\\packages\\pythonsoftwarefoundation.python.3.11_qbz5n2kfra8p0\\localcache\\local-packages\\python311\\site-packages (from pqdm) (0.0.3)\n",
      "Requirement already satisfied: tqdm in c:\\users\\philipp\\appdata\\local\\packages\\pythonsoftwarefoundation.python.3.11_qbz5n2kfra8p0\\localcache\\local-packages\\python311\\site-packages (from pqdm) (4.66.4)\n",
      "Requirement already satisfied: colorama in c:\\users\\philipp\\appdata\\local\\packages\\pythonsoftwarefoundation.python.3.11_qbz5n2kfra8p0\\localcache\\local-packages\\python311\\site-packages (from tqdm->pqdm) (0.4.6)\n",
      "Downloading networkx-3.4.2-py3-none-any.whl (1.7 MB)\n",
      "   ---------------------------------------- 0.0/1.7 MB ? eta -:--:--\n",
      "   ---------------------------------------- 0.0/1.7 MB ? eta -:--:--\n",
      "    --------------------------------------- 0.0/1.7 MB 660.6 kB/s eta 0:00:03\n",
      "   ------- -------------------------------- 0.3/1.7 MB 3.3 MB/s eta 0:00:01\n",
      "   ------------------------ --------------- 1.1/1.7 MB 7.4 MB/s eta 0:00:01\n",
      "   ---------------------------------------- 1.7/1.7 MB 10.0 MB/s eta 0:00:00\n",
      "Installing collected packages: networkx\n",
      "Successfully installed networkx-3.4.2\n",
      "Note: you may need to restart the kernel to use updated packages.\n"
     ]
    },
    {
     "name": "stderr",
     "output_type": "stream",
     "text": [
      "\n",
      "[notice] A new release of pip is available: 24.0 -> 25.1.1\n",
      "[notice] To update, run: C:\\Users\\Philipp\\AppData\\Local\\Microsoft\\WindowsApps\\PythonSoftwareFoundation.Python.3.11_qbz5n2kfra8p0\\python.exe -m pip install --upgrade pip\n"
     ]
    }
   ],
   "source": [
    "%pip install beautifulsoup4 pqdm pulp networkx"
   ]
  },
  {
   "cell_type": "code",
   "execution_count": 18,
   "metadata": {},
   "outputs": [],
   "source": [
    "import re\n",
    "import bs4\n",
    "import requests\n",
    "\n",
    "import pandas as pd\n",
    "\n",
    "from datetime import datetime\n",
    "from pqdm.threads import pqdm"
   ]
  },
  {
   "cell_type": "code",
   "execution_count": null,
   "metadata": {},
   "outputs": [
    {
     "name": "stderr",
     "output_type": "stream",
     "text": [
      "C:\\Users\\Philipp\\AppData\\Local\\Packages\\PythonSoftwareFoundation.Python.3.11_qbz5n2kfra8p0\\LocalCache\\local-packages\\Python311\\site-packages\\tqdm\\auto.py:21: TqdmWarning: IProgress not found. Please update jupyter and ipywidgets. See https://ipywidgets.readthedocs.io/en/stable/user_install.html\n",
      "  from .autonotebook import tqdm as notebook_tqdm\n",
      "QUEUEING TASKS | : 100%|██████████| 9999/9999 [00:00<00:00, 42348.57it/s]\n",
      "PROCESSING TASKS | : 100%|██████████| 9999/9999 [11:08<00:00, 14.96it/s]  \n",
      "COLLECTING RESULTS | : 100%|██████████| 9999/9999 [00:00<00:00, 834703.56it/s]\n"
     ]
    }
   ],
   "source": [
    "url = \"https://vvz.wu.ac.at/cgi-bin/vvz.pl?C=S&LANG=DE&U=H&S=25S&LV=3&L2=S&L3=S&T=&L=&I=$lvid&JOIN=AND\"\n",
    "\n",
    "\n",
    "def get_planpunkt_id(planpunkt_url):\n",
    "    try:\n",
    "        return re.findall(r\"P=([0-9]+);\", planpunkt_url)[0]\n",
    "    except Exception:\n",
    "        return None\n",
    "\n",
    "\n",
    "def extract_vorlesung(id: any, soup: bs4.BeautifulSoup):\n",
    "    tables = soup.find_all('table')\n",
    "\n",
    "    vvzInfo = {\n",
    "        \"id\": id,\n",
    "        \"dates\": [],\n",
    "        \"lvLeiter\": None,\n",
    "        \"planpunkte\": []\n",
    "    }\n",
    "\n",
    "    for table in tables:\n",
    "        for row in table.find_all('tr'):\n",
    "            cells = row.find_all('td')\n",
    "            for idx, cell in enumerate(cells):\n",
    "                text = cell.text.strip()\n",
    "                if text == \"Planpunkte Bachelor\" and idx + 1 < len(cells):\n",
    "                    planpunkte_links = cells[idx + 1].find_all('a')\n",
    "                    planpunkte = [\n",
    "                        {\n",
    "                            \"text\": a.text.strip(),\n",
    "                            \"href\": a.get(\"href\"),\n",
    "                            \"id\": get_planpunkt_id(a.get(\"href\"))\n",
    "                        }\n",
    "                        for a in planpunkte_links\n",
    "                    ]\n",
    "                    vvzInfo[\"planpunkte\"] = planpunkte\n",
    "                if text == \"LV-Leiter/in\" and idx + 1 < len(cells):\n",
    "                    lv_leiter = cells[idx + 1].text.strip()\n",
    "                    vvzInfo[\"lvLeiter\"] = lv_leiter\n",
    "\n",
    "        first_tr = table.find('tr')\n",
    "\n",
    "        if first_tr:\n",
    "            first_td = first_tr.find('td')\n",
    "            if first_td and first_td.text.strip() == \"Termine\":\n",
    "                for row in table.find_all('tr')[1:]:  # Skipping the header row\n",
    "                    cells = row.find_all('td')\n",
    "\n",
    "                    if len(cells) >= 5:\n",
    "                        date_str = cells[1].text.strip()\n",
    "                        date_obj = datetime.strptime(date_str, \"%d.%m.%Y\")\n",
    "\n",
    "                        time_str = cells[2].text.strip().replace(\" Uhr\", \"\")\n",
    "                        start_time_str, end_time_str = time_str.split('-')\n",
    "\n",
    "                        start_time = datetime.strptime(f\"{date_obj.strftime('%d.%m.%Y')} {start_time_str.strip()}\", \"%d.%m.%Y %H:%M\")\n",
    "                        end_time = datetime.strptime(f\"{date_obj.strftime('%d.%m.%Y')} {end_time_str.strip()}\", \"%d.%m.%Y %H:%M\")\n",
    "\n",
    "                        info = cells[3].text.strip()\n",
    "\n",
    "                        room_str = cells[4].text.strip()\n",
    "                        room_match = re.match(r\"([A-Za-z0-9.]+)\", room_str)\n",
    "                        room = room_match.group(1) if room_match else \"Unknown\"\n",
    "\n",
    "                        vvzInfo[\"dates\"].append({\n",
    "                            \"start\": start_time,\n",
    "                            \"end\": end_time,\n",
    "                            \"room\": room,\n",
    "                            \"info\": info\n",
    "                        })\n",
    "    return vvzInfo\n",
    "\n",
    "\n",
    "def fetch_vorlesung(id):\n",
    "    current_url = url.replace(\"$lvid\", str(id))\n",
    "    try:\n",
    "        page = requests.get(current_url)\n",
    "        if page.status_code == 200:\n",
    "            soup = bs4.BeautifulSoup(page.text, 'html.parser')\n",
    "\n",
    "            if \"Keine Lehrveranstaltungen gefunden\" in soup.get_text():\n",
    "                return (None, id, None)\n",
    "            else:\n",
    "                return (True, extract_vorlesung(id, soup), None)\n",
    "        else:\n",
    "            return (False, id, None)\n",
    "    except Exception as e:\n",
    "        return (False, id, e)\n",
    "\n",
    "\n",
    "result = pqdm(range(1, 10_000), fetch_vorlesung, n_jobs=8)"
   ]
  },
  {
   "cell_type": "code",
   "execution_count": 6,
   "metadata": {},
   "outputs": [],
   "source": [
    "import pickle\n",
    "\n",
    "with open(\"../0_daten/vvzKurse.pkl\", \"wb\") as f:\n",
    "    pickle.dump(result, f)"
   ]
  },
  {
   "cell_type": "code",
   "execution_count": 7,
   "metadata": {},
   "outputs": [],
   "source": [
    "import pickle\n",
    "\n",
    "with open(\"../0_daten/vvzKurse.pkl\", \"rb\") as f:\n",
    "    result = pickle.load(f)"
   ]
  },
  {
   "cell_type": "code",
   "execution_count": 9,
   "metadata": {},
   "outputs": [],
   "source": [
    "only_existing_courses = [v[1] for v in result if v[0] == True]"
   ]
  },
  {
   "cell_type": "code",
   "execution_count": 16,
   "metadata": {},
   "outputs": [
    {
     "name": "stderr",
     "output_type": "stream",
     "text": [
      "100%|██████████| 2154/2154 [00:39<00:00, 54.38it/s] \n"
     ]
    }
   ],
   "source": [
    "def fetch_planpunkt(p_url):\n",
    "    try:\n",
    "        page = requests.get(f\"https://vvz.wu.ac.at{p_url}\")\n",
    "        if page.status_code == 200:\n",
    "            soup = bs4.BeautifulSoup(page.text, 'html.parser')\n",
    "\n",
    "            for span in soup.select(\"span\"):\n",
    "                res = re.findall(r\"([0-9]+) ECTS\", span.text)\n",
    "                if len(res) == 1:\n",
    "                    return int(res[0])\n",
    "            \n",
    "            return None\n",
    "        else:\n",
    "            return (False, id, \"code!=200\")\n",
    "    except Exception as e:\n",
    "        return (False, id, e)\n",
    "\n",
    "\n",
    "planpunkte = {}\n",
    "\n",
    "for course in tqdm.tqdm(only_existing_courses):\n",
    "    for planpunkt in course[\"planpunkte\"]:\n",
    "        if planpunkt[\"id\"] in planpunkte:\n",
    "            continue\n",
    "\n",
    "        planpunkte[planpunkt[\"id\"]] = fetch_planpunkt(planpunkt[\"href\"])"
   ]
  },
  {
   "cell_type": "code",
   "execution_count": 28,
   "metadata": {},
   "outputs": [],
   "source": [
    "vvzModel = pd.DataFrame(only_existing_courses)\n",
    "\n",
    "vvzModel[\"planpunkte_ids\"] = vvzModel[\"planpunkte\"].apply(\n",
    "    lambda x: [p[\"id\"] for p in x] if isinstance(x, list) else []\n",
    ")\n",
    "vvzModel['ects'] = vvzModel['planpunkte_ids'].apply(\n",
    "    lambda x: next((planpunkte.get(str(id), -1) for id in x), -1) if x else -1\n",
    ")\n",
    "\n",
    "vvzModel.to_pickle(\"../0_daten/vvzModel.pkl\")"
   ]
  }
 ],
 "metadata": {
  "kernelspec": {
   "display_name": "Python 3",
   "language": "python",
   "name": "python3"
  },
  "language_info": {
   "codemirror_mode": {
    "name": "ipython",
    "version": 3
   },
   "file_extension": ".py",
   "mimetype": "text/x-python",
   "name": "python",
   "nbconvert_exporter": "python",
   "pygments_lexer": "ipython3",
   "version": "3.11.9"
  }
 },
 "nbformat": 4,
 "nbformat_minor": 2
}
